{
  "nbformat": 4,
  "nbformat_minor": 0,
  "metadata": {
    "colab": {
      "name": "Stock prediction Aarushi.ipynb",
      "provenance": [],
      "collapsed_sections": [],
      "authorship_tag": "ABX9TyM9BRbM+SPnm4OdqwUqCYO7",
      "include_colab_link": true
    },
    "kernelspec": {
      "name": "python3",
      "display_name": "Python 3"
    }
  },
  "cells": [
    {
      "cell_type": "markdown",
      "metadata": {
        "id": "view-in-github",
        "colab_type": "text"
      },
      "source": [
        "<a href=\"https://colab.research.google.com/github/AarushiBhati/Stock-Prediction/blob/main/Stock_prediction_Aarushi.ipynb\" target=\"_parent\"><img src=\"https://colab.research.google.com/assets/colab-badge.svg\" alt=\"Open In Colab\"/></a>"
      ]
    },
    {
      "cell_type": "code",
      "metadata": {
        "id": "1fqeA6s3i_av"
      },
      "source": [
        "#Description; This program is used for predicting stock's future using RNN LSTM\r\n",
        "#To predict closing stock prices of corporations using past stock prices"
      ],
      "execution_count": null,
      "outputs": []
    },
    {
      "cell_type": "code",
      "metadata": {
        "id": "2o7DEdDejHUe"
      },
      "source": [
        "#Import the libraries\r\n",
        "import math\r\n",
        "import pandas_datareader as web\r\n",
        "import numpy as np\r\n",
        "import pandas as pd\r\n",
        "from sklearn.preprocessing import MinMaxScaler\r\n",
        "from keras.models import Sequential\r\n",
        "from keras.layers import Dense, LSTM\r\n",
        "import matplotlib.pyplot as plt\r\n",
        "plt.style.use('fivethirtyeight')\r\n"
      ],
      "execution_count": null,
      "outputs": []
    },
    {
      "cell_type": "code",
      "metadata": {
        "colab": {
          "base_uri": "https://localhost:8080/",
          "height": 431
        },
        "id": "nUbKqLbpmAI3",
        "outputId": "0015a26b-c486-4b69-d3a5-681916114751"
      },
      "source": [
        "#Get the stock quote\r\n",
        "df= web.DataReader('IOC.NS', data_source='yahoo' ,start='2000-01-01', end='2020-11-27' )\r\n",
        "#Show the data\r\n",
        "df\r\n"
      ],
      "execution_count": null,
      "outputs": [
        {
          "output_type": "execute_result",
          "data": {
            "text/html": [
              "<div>\n",
              "<style scoped>\n",
              "    .dataframe tbody tr th:only-of-type {\n",
              "        vertical-align: middle;\n",
              "    }\n",
              "\n",
              "    .dataframe tbody tr th {\n",
              "        vertical-align: top;\n",
              "    }\n",
              "\n",
              "    .dataframe thead th {\n",
              "        text-align: right;\n",
              "    }\n",
              "</style>\n",
              "<table border=\"1\" class=\"dataframe\">\n",
              "  <thead>\n",
              "    <tr style=\"text-align: right;\">\n",
              "      <th></th>\n",
              "      <th>High</th>\n",
              "      <th>Low</th>\n",
              "      <th>Open</th>\n",
              "      <th>Close</th>\n",
              "      <th>Volume</th>\n",
              "      <th>Adj Close</th>\n",
              "    </tr>\n",
              "    <tr>\n",
              "      <th>Date</th>\n",
              "      <th></th>\n",
              "      <th></th>\n",
              "      <th></th>\n",
              "      <th></th>\n",
              "      <th></th>\n",
              "      <th></th>\n",
              "    </tr>\n",
              "  </thead>\n",
              "  <tbody>\n",
              "    <tr>\n",
              "      <th>2000-01-03</th>\n",
              "      <td>22.770832</td>\n",
              "      <td>20.833332</td>\n",
              "      <td>21.666666</td>\n",
              "      <td>22.570833</td>\n",
              "      <td>284400.0</td>\n",
              "      <td>9.555615</td>\n",
              "    </tr>\n",
              "    <tr>\n",
              "      <th>2000-01-04</th>\n",
              "      <td>22.333332</td>\n",
              "      <td>21.174999</td>\n",
              "      <td>21.666666</td>\n",
              "      <td>22.033333</td>\n",
              "      <td>292800.0</td>\n",
              "      <td>9.328058</td>\n",
              "    </tr>\n",
              "    <tr>\n",
              "      <th>2000-01-05</th>\n",
              "      <td>22.083332</td>\n",
              "      <td>21.416666</td>\n",
              "      <td>22.075001</td>\n",
              "      <td>21.775000</td>\n",
              "      <td>226800.0</td>\n",
              "      <td>9.218693</td>\n",
              "    </tr>\n",
              "    <tr>\n",
              "      <th>2000-01-06</th>\n",
              "      <td>21.916666</td>\n",
              "      <td>21.337500</td>\n",
              "      <td>21.500000</td>\n",
              "      <td>21.674999</td>\n",
              "      <td>217800.0</td>\n",
              "      <td>9.176353</td>\n",
              "    </tr>\n",
              "    <tr>\n",
              "      <th>2000-01-07</th>\n",
              "      <td>22.250000</td>\n",
              "      <td>21.104166</td>\n",
              "      <td>21.658333</td>\n",
              "      <td>22.037500</td>\n",
              "      <td>211800.0</td>\n",
              "      <td>9.329823</td>\n",
              "    </tr>\n",
              "    <tr>\n",
              "      <th>...</th>\n",
              "      <td>...</td>\n",
              "      <td>...</td>\n",
              "      <td>...</td>\n",
              "      <td>...</td>\n",
              "      <td>...</td>\n",
              "      <td>...</td>\n",
              "    </tr>\n",
              "    <tr>\n",
              "      <th>2020-11-23</th>\n",
              "      <td>86.650002</td>\n",
              "      <td>84.050003</td>\n",
              "      <td>85.500000</td>\n",
              "      <td>86.449997</td>\n",
              "      <td>21750853.0</td>\n",
              "      <td>86.449997</td>\n",
              "    </tr>\n",
              "    <tr>\n",
              "      <th>2020-11-24</th>\n",
              "      <td>87.349998</td>\n",
              "      <td>85.750000</td>\n",
              "      <td>87.000000</td>\n",
              "      <td>86.150002</td>\n",
              "      <td>17836449.0</td>\n",
              "      <td>86.150002</td>\n",
              "    </tr>\n",
              "    <tr>\n",
              "      <th>2020-11-25</th>\n",
              "      <td>87.099998</td>\n",
              "      <td>85.500000</td>\n",
              "      <td>86.500000</td>\n",
              "      <td>85.750000</td>\n",
              "      <td>17102078.0</td>\n",
              "      <td>85.750000</td>\n",
              "    </tr>\n",
              "    <tr>\n",
              "      <th>2020-11-26</th>\n",
              "      <td>86.250000</td>\n",
              "      <td>84.550003</td>\n",
              "      <td>85.900002</td>\n",
              "      <td>85.599998</td>\n",
              "      <td>15122856.0</td>\n",
              "      <td>85.599998</td>\n",
              "    </tr>\n",
              "    <tr>\n",
              "      <th>2020-11-27</th>\n",
              "      <td>86.199997</td>\n",
              "      <td>84.000000</td>\n",
              "      <td>85.599998</td>\n",
              "      <td>84.599998</td>\n",
              "      <td>31877290.0</td>\n",
              "      <td>84.599998</td>\n",
              "    </tr>\n",
              "  </tbody>\n",
              "</table>\n",
              "<p>5220 rows × 6 columns</p>\n",
              "</div>"
            ],
            "text/plain": [
              "                 High        Low       Open      Close      Volume  Adj Close\n",
              "Date                                                                         \n",
              "2000-01-03  22.770832  20.833332  21.666666  22.570833    284400.0   9.555615\n",
              "2000-01-04  22.333332  21.174999  21.666666  22.033333    292800.0   9.328058\n",
              "2000-01-05  22.083332  21.416666  22.075001  21.775000    226800.0   9.218693\n",
              "2000-01-06  21.916666  21.337500  21.500000  21.674999    217800.0   9.176353\n",
              "2000-01-07  22.250000  21.104166  21.658333  22.037500    211800.0   9.329823\n",
              "...               ...        ...        ...        ...         ...        ...\n",
              "2020-11-23  86.650002  84.050003  85.500000  86.449997  21750853.0  86.449997\n",
              "2020-11-24  87.349998  85.750000  87.000000  86.150002  17836449.0  86.150002\n",
              "2020-11-25  87.099998  85.500000  86.500000  85.750000  17102078.0  85.750000\n",
              "2020-11-26  86.250000  84.550003  85.900002  85.599998  15122856.0  85.599998\n",
              "2020-11-27  86.199997  84.000000  85.599998  84.599998  31877290.0  84.599998\n",
              "\n",
              "[5220 rows x 6 columns]"
            ]
          },
          "metadata": {
            "tags": []
          },
          "execution_count": 149
        }
      ]
    },
    {
      "cell_type": "code",
      "metadata": {
        "colab": {
          "base_uri": "https://localhost:8080/"
        },
        "id": "ihUL2Xnvxneb",
        "outputId": "9067ab05-ce77-444e-e51a-220c22c0f06b"
      },
      "source": [
        "df.shape\r\n"
      ],
      "execution_count": null,
      "outputs": [
        {
          "output_type": "execute_result",
          "data": {
            "text/plain": [
              "(5220, 6)"
            ]
          },
          "metadata": {
            "tags": []
          },
          "execution_count": 150
        }
      ]
    },
    {
      "cell_type": "code",
      "metadata": {
        "colab": {
          "base_uri": "https://localhost:8080/",
          "height": 559
        },
        "id": "TXS0g2ek5vxI",
        "outputId": "b0b73cd9-817b-474e-bc61-5ad0fc584b23"
      },
      "source": [
        "#Visualize the closing plot history\r\n",
        "plt.figure(figsize=(16,8))\r\n",
        "plt.title('Close price history')\r\n",
        "plt.plot(df['Close'])\r\n",
        "plt.xlabel('Date',fontsize=20)\r\n",
        "plt.ylabel('Closing Price of stock',fontsize=20)\r\n",
        "plt.show()"
      ],
      "execution_count": null,
      "outputs": [
        {
          "output_type": "display_data",
          "data": {
            "image/png": "[encoded data removed]",
            "text/plain": [
              "<Figure size 1152x576 with 1 Axes>"
            ]
          },
          "metadata": {
            "tags": []
          }
        }
      ]
    },
    {
      "cell_type": "code",
      "metadata": {
        "colab": {
          "base_uri": "https://localhost:8080/"
        },
        "id": "l-RD0ZOM94tO",
        "outputId": "98031736-bb81-48d1-a293-f3e9bbb26606"
      },
      "source": [
        "#Create a data frame with only the close coloumn\r\n",
        "data= df.filter(['Close'])\r\n",
        "#Convert the data base to numpy array\r\n",
        "dataset=data.values\r\n",
        "#Get the nummber of rows to train the model on\r\n",
        "training_data_len=math.ceil(len(dataset)* .8)\r\n",
        "training_data_len"
      ],
      "execution_count": null,
      "outputs": [
        {
          "output_type": "execute_result",
          "data": {
            "text/plain": [
              "4176"
            ]
          },
          "metadata": {
            "tags": []
          },
          "execution_count": 153
        }
      ]
    },
    {
      "cell_type": "code",
      "metadata": {
        "colab": {
          "base_uri": "https://localhost:8080/"
        },
        "id": "tb3Apg-yAo1k",
        "outputId": "89ffb38f-2f78-441e-ec41-9b9ac79ded8b"
      },
      "source": [
        "#Scale the data\r\n",
        "scaler= MinMaxScaler(feature_range=(0,1))\r\n",
        "scaled_data=scaler.fit_transform(dataset)\r\n",
        "\r\n",
        "scaled_data"
      ],
      "execution_count": null,
      "outputs": [
        {
          "output_type": "execute_result",
          "data": {
            "text/plain": [
              "array([[0.06096908],\n",
              "       [0.05850433],\n",
              "       [0.05731973],\n",
              "       ...,\n",
              "       [0.3506821 ],\n",
              "       [0.34999425],\n",
              "       [0.34540867]])"
            ]
          },
          "metadata": {
            "tags": []
          },
          "execution_count": 154
        }
      ]
    },
    {
      "cell_type": "code",
      "metadata": {
        "id": "A2TqCdofunbA",
        "colab": {
          "base_uri": "https://localhost:8080/"
        },
        "outputId": "931fa935-4e24-4993-d977-b8d80bd57b41"
      },
      "source": [
        "#Create the training set\r\n",
        "#Create the scaled training data set\r\n",
        "train_data = scaled_data[0:training_data_len, :]\r\n",
        "# Split the data in x_train and y_train data sets\r\n",
        "x_train=[]\r\n",
        "y_train=[]\r\n",
        "\r\n",
        "for i in range(60,len(train_data)):\r\n",
        "  x_train.append(train_data[i-60:i, 0])\r\n",
        "  y_train.append(train_data[i,0])\r\n",
        "  if i<= 61:\r\n",
        "    print(x_train)\r\n",
        "    print(y_train)\r\n",
        "    print()\r\n",
        "\r\n"
      ],
      "execution_count": null,
      "outputs": [
        {
          "output_type": "stream",
          "text": [
            "[array([0.06096908, 0.05850433, 0.05731973, 0.05686117, 0.05852345,\n",
            "       0.05351752, 0.04908479, 0.05642172, 0.0615996 , 0.0633383 ,\n",
            "       0.05898201, 0.05663189, 0.05294432, 0.055218  , 0.05569567,\n",
            "       0.05458749, 0.05072796, 0.05072796, 0.05302075, 0.05263861,\n",
            "       0.05193168, 0.05275325, 0.05772096, 0.05663189, 0.05598227,\n",
            "       0.05451106, 0.05011655, 0.05321181, 0.05175972, 0.04954335,\n",
            "       0.04497688, 0.04430815, 0.04465207, 0.04556918, 0.04148038,\n",
            "       0.0392258 , 0.03634071, 0.03901563, 0.03848064, 0.03731515,\n",
            "       0.04172876, 0.0421491 , 0.04226375, 0.03548092, 0.03005464,\n",
            "       0.02566013, 0.02352019, 0.0217815 , 0.02392143, 0.02306164,\n",
            "       0.02097902, 0.02122741, 0.02432267, 0.02216363, 0.02216363,\n",
            "       0.02216363, 0.02117009, 0.02627154, 0.03148764, 0.03519432])]\n",
            "[0.030379455705558528]\n",
            "\n",
            "[array([0.06096908, 0.05850433, 0.05731973, 0.05686117, 0.05852345,\n",
            "       0.05351752, 0.04908479, 0.05642172, 0.0615996 , 0.0633383 ,\n",
            "       0.05898201, 0.05663189, 0.05294432, 0.055218  , 0.05569567,\n",
            "       0.05458749, 0.05072796, 0.05072796, 0.05302075, 0.05263861,\n",
            "       0.05193168, 0.05275325, 0.05772096, 0.05663189, 0.05598227,\n",
            "       0.05451106, 0.05011655, 0.05321181, 0.05175972, 0.04954335,\n",
            "       0.04497688, 0.04430815, 0.04465207, 0.04556918, 0.04148038,\n",
            "       0.0392258 , 0.03634071, 0.03901563, 0.03848064, 0.03731515,\n",
            "       0.04172876, 0.0421491 , 0.04226375, 0.03548092, 0.03005464,\n",
            "       0.02566013, 0.02352019, 0.0217815 , 0.02392143, 0.02306164,\n",
            "       0.02097902, 0.02122741, 0.02432267, 0.02216363, 0.02216363,\n",
            "       0.02216363, 0.02117009, 0.02627154, 0.03148764, 0.03519432]), array([0.05850433, 0.05731973, 0.05686117, 0.05852345, 0.05351752,\n",
            "       0.04908479, 0.05642172, 0.0615996 , 0.0633383 , 0.05898201,\n",
            "       0.05663189, 0.05294432, 0.055218  , 0.05569567, 0.05458749,\n",
            "       0.05072796, 0.05072796, 0.05302075, 0.05263861, 0.05193168,\n",
            "       0.05275325, 0.05772096, 0.05663189, 0.05598227, 0.05451106,\n",
            "       0.05011655, 0.05321181, 0.05175972, 0.04954335, 0.04497688,\n",
            "       0.04430815, 0.04465207, 0.04556918, 0.04148038, 0.0392258 ,\n",
            "       0.03634071, 0.03901563, 0.03848064, 0.03731515, 0.04172876,\n",
            "       0.0421491 , 0.04226375, 0.03548092, 0.03005464, 0.02566013,\n",
            "       0.02352019, 0.0217815 , 0.02392143, 0.02306164, 0.02097902,\n",
            "       0.02122741, 0.02432267, 0.02216363, 0.02216363, 0.02216363,\n",
            "       0.02117009, 0.02627154, 0.03148764, 0.03519432, 0.03037946])]\n",
            "[0.030379455705558528, 0.030818908992416252]\n",
            "\n"
          ],
          "name": "stdout"
        }
      ]
    },
    {
      "cell_type": "code",
      "metadata": {
        "id": "9tGQTzI4xZqF"
      },
      "source": [
        "#Convert the x-train and y_train datasets to numpy arrays\r\n",
        "x_train ,y_train= np.array(x_train),np.array(y_train)"
      ],
      "execution_count": null,
      "outputs": []
    },
    {
      "cell_type": "code",
      "metadata": {
        "colab": {
          "base_uri": "https://localhost:8080/"
        },
        "id": "0hn4YXPhx1LK",
        "outputId": "e122933d-061a-4477-e23d-1860ca890c8d"
      },
      "source": [
        "#Reshape the data\r\n",
        "x_train=np.reshape(x_train,(x_train.shape[0],x_train.shape[1],1))\r\n",
        "x_train.shape\r\n"
      ],
      "execution_count": null,
      "outputs": [
        {
          "output_type": "execute_result",
          "data": {
            "text/plain": [
              "(4116, 60, 1)"
            ]
          },
          "metadata": {
            "tags": []
          },
          "execution_count": 157
        }
      ]
    },
    {
      "cell_type": "code",
      "metadata": {
        "id": "4RS5bRp8ynvE"
      },
      "source": [
        "#Build the LSTM model\r\n",
        "model = Sequential()\r\n",
        "model.add(LSTM(50,return_sequences= True,input_shape=(x_train.shape[1],1)))\r\n",
        "model.add(LSTM(50,return_sequences=False))\r\n",
        "model.add(Dense(25))\r\n",
        "model.add(Dense(1))\r\n",
        "\r\n"
      ],
      "execution_count": null,
      "outputs": []
    },
    {
      "cell_type": "code",
      "metadata": {
        "id": "LpTJPPNmeKeR"
      },
      "source": [
        "#Compie the model\r\n",
        "model.compile(optimizer='adam',loss='mean_squared_error')"
      ],
      "execution_count": null,
      "outputs": []
    },
    {
      "cell_type": "code",
      "metadata": {
        "colab": {
          "base_uri": "https://localhost:8080/"
        },
        "id": "c2FYC-Xben0w",
        "outputId": "113b03de-5294-4d40-9ff3-e5256594096e"
      },
      "source": [
        "#Train the model\r\n",
        "model.fit(x_train,y_train,batch_size=1, epochs=1)"
      ],
      "execution_count": null,
      "outputs": [
        {
          "output_type": "stream",
          "text": [
            "4116/4116 [==============================] - 98s 23ms/step - loss: 9.7012e-04\n"
          ],
          "name": "stdout"
        },
        {
          "output_type": "execute_result",
          "data": {
            "text/plain": [
              "<tensorflow.python.keras.callbacks.History at 0x7fb54e19a978>"
            ]
          },
          "metadata": {
            "tags": []
          },
          "execution_count": 160
        }
      ]
    },
    {
      "cell_type": "code",
      "metadata": {
        "id": "rXexwDr8fILJ"
      },
      "source": [
        "#Create the training data set\r\n",
        "#Create a new array containing scaled values from index 1543 to 4083\r\n",
        "test_data=scaled_data[training_data_len-60:,:]\r\n",
        "#Create the data sets x_test and y_test\r\n",
        "x_test=[]\r\n",
        "y_test=dataset[training_data_len,:]\r\n",
        "for i in range(60,len(test_data)):\r\n",
        " x_test.append(test_data[i-60:i, 0])\r\n"
      ],
      "execution_count": null,
      "outputs": []
    },
    {
      "cell_type": "code",
      "metadata": {
        "id": "MmP96C08ihEl"
      },
      "source": [
        "#Convert the data to numpy array\r\n",
        "x_test=np.array(x_test)"
      ],
      "execution_count": null,
      "outputs": []
    },
    {
      "cell_type": "code",
      "metadata": {
        "id": "hZnUn22jjyBE"
      },
      "source": [
        "#Reshape the data\r\n",
        "x_test = np.reshape(x_test, (x_test.shape[0], x_test.shape[1], 1))"
      ],
      "execution_count": null,
      "outputs": []
    },
    {
      "cell_type": "code",
      "metadata": {
        "id": "1fY08jxOm-cq"
      },
      "source": [
        "#Get the models predicted price values\r\n",
        "predictions= model.predict(x_test)\r\n",
        "predictions= scaler.inverse_transform(predictions)"
      ],
      "execution_count": null,
      "outputs": []
    },
    {
      "cell_type": "code",
      "metadata": {
        "colab": {
          "base_uri": "https://localhost:8080/"
        },
        "id": "vfiTgwrbo_OY",
        "outputId": "e7672383-f035-43f1-d63e-19e3812f4672"
      },
      "source": [
        "#Get the root mean squared errror\r\n",
        "rmse = np.sqrt( np.mean( predictions - y_test )**2 )\r\n",
        "rmse"
      ],
      "execution_count": null,
      "outputs": [
        {
          "output_type": "execute_result",
          "data": {
            "text/plain": [
              "10.286857042276083"
            ]
          },
          "metadata": {
            "tags": []
          },
          "execution_count": 165
        }
      ]
    },
    {
      "cell_type": "code",
      "metadata": {
        "colab": {
          "base_uri": "https://localhost:8080/",
          "height": 659
        },
        "id": "WXf_r_9vplAC",
        "outputId": "add574d5-80db-411c-c67d-fecd1d7ccf61"
      },
      "source": [
        "#Plot the data\r\n",
        "train = data[:training_data_len]\r\n",
        "valid = data[training_data_len:]\r\n",
        "valid['Predictions']=predictions\r\n",
        "#Visualize the data\r\n",
        "plt.figure(figsize=(16,8))\r\n",
        "plt.title('Model')\r\n",
        "plt.xlabel('Date',fontsize=18)\r\n",
        "plt.ylabel('Closing Price', fontsize=18)\r\n",
        "plt.plot(train['Close'])\r\n",
        "plt.plot(valid[['Close','Predictions']])\r\n",
        "plt.legend(['Train', 'Val','Predictions'], loc='lower right')\r\n",
        "plt.show()"
      ],
      "execution_count": null,
      "outputs": [
        {
          "output_type": "stream",
          "text": [
            "/usr/local/lib/python3.6/dist-packages/ipykernel_launcher.py:4: SettingWithCopyWarning: \n",
            "A value is trying to be set on a copy of a slice from a DataFrame.\n",
            "Try using .loc[row_indexer,col_indexer] = value instead\n",
            "\n",
            "See the caveats in the documentation: https://pandas.pydata.org/pandas-docs/stable/user_guide/indexing.html#returning-a-view-versus-a-copy\n",
            "  after removing the cwd from sys.path.\n"
          ],
          "name": "stderr"
        },
        {
          "output_type": "display_data",
          "data": {
            "image/png": "[encoded data removed]",
            "text/plain": [
              "<Figure size 1152x576 with 1 Axes>"
            ]
          },
          "metadata": {
            "tags": []
          }
        }
      ]
    },
    {
      "cell_type": "code",
      "metadata": {
        "colab": {
          "base_uri": "https://localhost:8080/",
          "height": 431
        },
        "id": "SJnADWCjuMgQ",
        "outputId": "d1982040-231c-4416-8348-182f7a9530b4"
      },
      "source": [
        "#Show the valid and predicted value\r\n",
        "valid"
      ],
      "execution_count": null,
      "outputs": [
        {
          "output_type": "execute_result",
          "data": {
            "text/html": [
              "<div>\n",
              "<style scoped>\n",
              "    .dataframe tbody tr th:only-of-type {\n",
              "        vertical-align: middle;\n",
              "    }\n",
              "\n",
              "    .dataframe tbody tr th {\n",
              "        vertical-align: top;\n",
              "    }\n",
              "\n",
              "    .dataframe thead th {\n",
              "        text-align: right;\n",
              "    }\n",
              "</style>\n",
              "<table border=\"1\" class=\"dataframe\">\n",
              "  <thead>\n",
              "    <tr style=\"text-align: right;\">\n",
              "      <th></th>\n",
              "      <th>Close</th>\n",
              "      <th>Predictions</th>\n",
              "    </tr>\n",
              "    <tr>\n",
              "      <th>Date</th>\n",
              "      <th></th>\n",
              "      <th></th>\n",
              "    </tr>\n",
              "  </thead>\n",
              "  <tbody>\n",
              "    <tr>\n",
              "      <th>2016-09-02</th>\n",
              "      <td>143.362503</td>\n",
              "      <td>146.344879</td>\n",
              "    </tr>\n",
              "    <tr>\n",
              "      <th>2016-09-06</th>\n",
              "      <td>143.300003</td>\n",
              "      <td>146.442734</td>\n",
              "    </tr>\n",
              "    <tr>\n",
              "      <th>2016-09-07</th>\n",
              "      <td>141.887497</td>\n",
              "      <td>146.417404</td>\n",
              "    </tr>\n",
              "    <tr>\n",
              "      <th>2016-09-08</th>\n",
              "      <td>140.962494</td>\n",
              "      <td>145.989334</td>\n",
              "    </tr>\n",
              "    <tr>\n",
              "      <th>2016-09-09</th>\n",
              "      <td>140.912506</td>\n",
              "      <td>145.314133</td>\n",
              "    </tr>\n",
              "    <tr>\n",
              "      <th>...</th>\n",
              "      <td>...</td>\n",
              "      <td>...</td>\n",
              "    </tr>\n",
              "    <tr>\n",
              "      <th>2020-11-23</th>\n",
              "      <td>86.449997</td>\n",
              "      <td>84.430931</td>\n",
              "    </tr>\n",
              "    <tr>\n",
              "      <th>2020-11-24</th>\n",
              "      <td>86.150002</td>\n",
              "      <td>84.794525</td>\n",
              "    </tr>\n",
              "    <tr>\n",
              "      <th>2020-11-25</th>\n",
              "      <td>85.750000</td>\n",
              "      <td>85.121780</td>\n",
              "    </tr>\n",
              "    <tr>\n",
              "      <th>2020-11-26</th>\n",
              "      <td>85.599998</td>\n",
              "      <td>85.286140</td>\n",
              "    </tr>\n",
              "    <tr>\n",
              "      <th>2020-11-27</th>\n",
              "      <td>84.599998</td>\n",
              "      <td>85.331856</td>\n",
              "    </tr>\n",
              "  </tbody>\n",
              "</table>\n",
              "<p>1044 rows × 2 columns</p>\n",
              "</div>"
            ],
            "text/plain": [
              "                 Close  Predictions\n",
              "Date                               \n",
              "2016-09-02  143.362503   146.344879\n",
              "2016-09-06  143.300003   146.442734\n",
              "2016-09-07  141.887497   146.417404\n",
              "2016-09-08  140.962494   145.989334\n",
              "2016-09-09  140.912506   145.314133\n",
              "...                ...          ...\n",
              "2020-11-23   86.449997    84.430931\n",
              "2020-11-24   86.150002    84.794525\n",
              "2020-11-25   85.750000    85.121780\n",
              "2020-11-26   85.599998    85.286140\n",
              "2020-11-27   84.599998    85.331856\n",
              "\n",
              "[1044 rows x 2 columns]"
            ]
          },
          "metadata": {
            "tags": []
          },
          "execution_count": 169
        }
      ]
    },
    {
      "cell_type": "code",
      "metadata": {
        "colab": {
          "base_uri": "https://localhost:8080/"
        },
        "id": "AKmNbhvfvYki",
        "outputId": "742ffff9-db30-4c41-fc31-0246adf82016"
      },
      "source": [
        "#Get the quote\r\n",
        "apple_quote=web.DataReader('AAPL',data_source='yahoo',start='2000-01-03',end='2020-11-27')\r\n",
        "#Create a new dataframe\r\n",
        "new_df=apple_quote.filter(['Close'])\r\n",
        "#Get the last 60 days prices and tranform the data into an array\r\n",
        "last_60_days=new_df[-60:].values\r\n",
        "#scale the data to be values between 0 and 1\r\n",
        "last_60_days_scaled = scaler.transform(last_60_days)\r\n",
        "#Create an empty list\r\n",
        "X_test = []\r\n",
        "#Append the last 60 days\r\n",
        "X_test.append(last_60_days_scaled)\r\n",
        "#Convert the x_test dataset to numpy array\r\n",
        "X_test =np.array(X_test)\r\n",
        "#Reshape the data\r\n",
        "X_test =np.reshape(X_test,(X_test.shape[0], X_test.shape[1], 1))\r\n",
        "#Get the predicted scaled price\r\n",
        "pred_price=model.predict(X_test)\r\n",
        "#undo the scaling\r\n",
        "pred_price=scaler.inverse_transform(pred_price)\r\n",
        "print(pred_price)"
      ],
      "execution_count": null,
      "outputs": [
        {
          "output_type": "stream",
          "text": [
            "[[117.46304]]\n"
          ],
          "name": "stdout"
        }
      ]
    },
    {
      "cell_type": "code",
      "metadata": {
        "colab": {
          "base_uri": "https://localhost:8080/"
        },
        "id": "Qpf02aIrAZdD",
        "outputId": "31bebe3c-e580-45f0-c477-19424390c95c"
      },
      "source": [
        "#Get the actual quote\r\n",
        "IOC_quote2=web.DataReader('IOC.NS',data_source='yahoo',start='18-12-2019',end='18-12-2019')\r\n",
        "print(IOC_quote2['Close'])"
      ],
      "execution_count": null,
      "outputs": [
        {
          "output_type": "stream",
          "text": [
            "Date\n",
            "2019-12-18    126.050003\n",
            "2019-12-19    127.400002\n",
            "Name: Close, dtype: float64\n"
          ],
          "name": "stdout"
        }
      ]
    }
  ]
}